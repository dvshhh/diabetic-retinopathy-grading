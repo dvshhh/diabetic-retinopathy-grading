{
  "nbformat": 4,
  "nbformat_minor": 0,
  "metadata": {
    "colab": {
      "provenance": [],
      "gpuType": "T4"
    },
    "kernelspec": {
      "name": "python3",
      "display_name": "Python 3"
    },
    "language_info": {
      "name": "python"
    },
    "accelerator": "GPU",
    "gpuClass": "standard"
  },
  "cells": [
    {
      "cell_type": "code",
      "source": [
        "from google.colab import drive\n",
        "drive.mount('/content/drive')"
      ],
      "metadata": {
        "id": "FiuJ-GjOKOs4",
        "colab": {
          "base_uri": "https://localhost:8080/"
        },
        "outputId": "d94088e5-2ffd-49c3-e8d4-72ed0f7d18c6"
      },
      "execution_count": 1,
      "outputs": [
        {
          "output_type": "stream",
          "name": "stdout",
          "text": [
            "Drive already mounted at /content/drive; to attempt to forcibly remount, call drive.mount(\"/content/drive\", force_remount=True).\n"
          ]
        }
      ]
    },
    {
      "cell_type": "code",
      "source": [
        "pip install git+https://github.com/qubvel/segmentation_models"
      ],
      "metadata": {
        "colab": {
          "base_uri": "https://localhost:8080/"
        },
        "id": "DK7uTialvZli",
        "outputId": "c6791ec2-40dd-43bf-cfb5-bc23e02f4cd6"
      },
      "execution_count": 2,
      "outputs": [
        {
          "output_type": "stream",
          "name": "stdout",
          "text": [
            "Looking in indexes: https://pypi.org/simple, https://us-python.pkg.dev/colab-wheels/public/simple/\n",
            "Collecting git+https://github.com/qubvel/segmentation_models\n",
            "  Cloning https://github.com/qubvel/segmentation_models to /tmp/pip-req-build-mf_w83zt\n",
            "  Running command git clone --filter=blob:none --quiet https://github.com/qubvel/segmentation_models /tmp/pip-req-build-mf_w83zt\n",
            "  Resolved https://github.com/qubvel/segmentation_models to commit e951c6747f75fa9e7240816d1c79dd2e66813123\n",
            "  Running command git submodule update --init --recursive -q\n",
            "  Preparing metadata (setup.py) ... \u001b[?25l\u001b[?25hdone\n",
            "Requirement already satisfied: keras_applications<=1.0.8,>=1.0.7 in /usr/local/lib/python3.10/dist-packages (from segmentation-models==1.0.1) (1.0.8)\n",
            "Requirement already satisfied: image-classifiers==1.0.0 in /usr/local/lib/python3.10/dist-packages (from segmentation-models==1.0.1) (1.0.0)\n",
            "Requirement already satisfied: efficientnet==1.0.0 in /usr/local/lib/python3.10/dist-packages (from segmentation-models==1.0.1) (1.0.0)\n",
            "Requirement already satisfied: scikit-image in /usr/local/lib/python3.10/dist-packages (from efficientnet==1.0.0->segmentation-models==1.0.1) (0.19.3)\n",
            "Requirement already satisfied: numpy>=1.9.1 in /usr/local/lib/python3.10/dist-packages (from keras_applications<=1.0.8,>=1.0.7->segmentation-models==1.0.1) (1.22.4)\n",
            "Requirement already satisfied: h5py in /usr/local/lib/python3.10/dist-packages (from keras_applications<=1.0.8,>=1.0.7->segmentation-models==1.0.1) (3.8.0)\n",
            "Requirement already satisfied: packaging>=20.0 in /usr/local/lib/python3.10/dist-packages (from scikit-image->efficientnet==1.0.0->segmentation-models==1.0.1) (23.1)\n",
            "Requirement already satisfied: imageio>=2.4.1 in /usr/local/lib/python3.10/dist-packages (from scikit-image->efficientnet==1.0.0->segmentation-models==1.0.1) (2.25.1)\n",
            "Requirement already satisfied: pillow!=7.1.0,!=7.1.1,!=8.3.0,>=6.1.0 in /usr/local/lib/python3.10/dist-packages (from scikit-image->efficientnet==1.0.0->segmentation-models==1.0.1) (8.4.0)\n",
            "Requirement already satisfied: networkx>=2.2 in /usr/local/lib/python3.10/dist-packages (from scikit-image->efficientnet==1.0.0->segmentation-models==1.0.1) (3.1)\n",
            "Requirement already satisfied: tifffile>=2019.7.26 in /usr/local/lib/python3.10/dist-packages (from scikit-image->efficientnet==1.0.0->segmentation-models==1.0.1) (2023.4.12)\n",
            "Requirement already satisfied: scipy>=1.4.1 in /usr/local/lib/python3.10/dist-packages (from scikit-image->efficientnet==1.0.0->segmentation-models==1.0.1) (1.10.1)\n",
            "Requirement already satisfied: PyWavelets>=1.1.1 in /usr/local/lib/python3.10/dist-packages (from scikit-image->efficientnet==1.0.0->segmentation-models==1.0.1) (1.4.1)\n"
          ]
        }
      ]
    },
    {
      "cell_type": "code",
      "source": [
        "import cv2\n",
        "import numpy as np\n",
        "import tensorflow as tf\n",
        "from tensorflow import keras\n",
        "# from tensorflow.keras.applications import EfficientNetB4\n",
        "from tensorflow.keras.layers import Input, Dense, Dropout, GlobalAveragePooling2D, BatchNormalization\n",
        "from tensorflow.keras.layers import Conv2D, MaxPooling2D, Activation, Add, Multiply, Reshape, Lambda\n",
        "from tensorflow.keras.models import Model\n",
        "from efficientnet.tfkeras import EfficientNetB3\n",
        "from tensorflow.keras.optimizers import AdamW"
      ],
      "metadata": {
        "id": "STkG8uuPxYaL"
      },
      "execution_count": 9,
      "outputs": []
    },
    {
      "cell_type": "code",
      "source": [
        "# Load the data from the numpy files\n",
        "x_train = np.load('/content/drive/MyDrive/np_images/x_train.npy')\n",
        "y_train = np.load('/content/drive/MyDrive/np_images/y_train.npy')\n",
        "x_test  = np.load('/content/drive/MyDrive/np_images/x_test.npy')\n",
        "y_test  = np.load('/content/drive/MyDrive/np_images/y_test.npy')"
      ],
      "metadata": {
        "id": "kJ8pEAVZxS1B"
      },
      "execution_count": 10,
      "outputs": []
    },
    {
      "cell_type": "code",
      "source": [
        "# resize\n",
        "x_train = tf.image.resize(x_train, size=(224, 224)) / 255.0\n",
        "x_test = tf.image.resize(x_test, size=(224, 224)) / 255.0"
      ],
      "metadata": {
        "id": "oGzPrwNwxTfc"
      },
      "execution_count": 11,
      "outputs": []
    },
    {
      "cell_type": "code",
      "source": [
        "def preprocess_image(img):\n",
        "    # Crop the center 80% of the image\n",
        "    #print(img.shape)\n",
        "    height, width, channels = img.shape\n",
        "    crop_height = int(height * 0.8)\n",
        "    crop_width = int(width * 0.8)\n",
        "    start_height = int((height - crop_height) / 2)\n",
        "    start_width = int((width - crop_width) / 2)\n",
        "    img = img[start_height:start_height+crop_height, start_width:start_width+crop_width, :]\n",
        "    \n",
        "    # Apply Gaussian blur with kernel size 3\n",
        "    img = cv2.GaussianBlur(img, (3, 3), 0)\n",
        "\n",
        "    img = cv2.resize(img, (224, 224))\n",
        "    \n",
        "    # Rescale the pixel values to [0, 1]\n",
        "    img = img / 255.\n",
        "    \n",
        "    # Rescale the pixel values to [0, 1]\n",
        "    \n",
        "    return img"
      ],
      "metadata": {
        "id": "rIukJBhYxgzR"
      },
      "execution_count": 12,
      "outputs": []
    },
    {
      "cell_type": "code",
      "source": [
        "from keras.preprocessing.image import ImageDataGenerator\n",
        "def create_datagen():\n",
        "    return ImageDataGenerator(\n",
        "        horizontal_flip=True,   # randomly flip images\n",
        "        vertical_flip=True,     # randomly flip images\n",
        "\n",
        "        preprocessing_function = preprocess_image\n",
        "    )\n",
        "# Using original generator\n",
        "data_generator = create_datagen().flow(x_train, y_train,batch_size=32)\n",
        "print(\"Image data augmentated ...\")"
      ],
      "metadata": {
        "colab": {
          "base_uri": "https://localhost:8080/"
        },
        "id": "URhacqGxxrET",
        "outputId": "71a649ca-4c69-4b60-f8cf-54f2304afda4"
      },
      "execution_count": 13,
      "outputs": [
        {
          "output_type": "stream",
          "name": "stdout",
          "text": [
            "Image data augmentated ...\n"
          ]
        }
      ]
    },
    {
      "cell_type": "code",
      "execution_count": 17,
      "metadata": {
        "id": "CAfdkIkXJTxQ",
        "colab": {
          "base_uri": "https://localhost:8080/"
        },
        "outputId": "25aee1e8-007e-4754-f335-ca98b915eb82"
      },
      "outputs": [
        {
          "output_type": "stream",
          "name": "stderr",
          "text": [
            "WARNING:absl:`lr` is deprecated in Keras optimizer, please use `learning_rate` or use the legacy optimizer, e.g.,tf.keras.optimizers.legacy.AdamW.\n"
          ]
        },
        {
          "output_type": "stream",
          "name": "stdout",
          "text": [
            "Epoch 1/100\n",
            "92/92 [==============================] - 29s 201ms/step - loss: 0.8603 - accuracy: 0.6787 - f1: 0.2801 - val_loss: 0.7409 - val_accuracy: 0.7149 - val_f1: 0.3054\n",
            "Epoch 2/100\n",
            "92/92 [==============================] - 13s 140ms/step - loss: 0.6941 - accuracy: 0.7368 - f1: 0.3594 - val_loss: 0.7144 - val_accuracy: 0.7381 - val_f1: 0.4136\n",
            "Epoch 3/100\n",
            "92/92 [==============================] - 13s 143ms/step - loss: 0.6718 - accuracy: 0.7392 - f1: 0.3799 - val_loss: 0.6769 - val_accuracy: 0.7531 - val_f1: 0.3748\n",
            "Epoch 4/100\n",
            "92/92 [==============================] - 13s 141ms/step - loss: 0.6407 - accuracy: 0.7586 - f1: 0.3981 - val_loss: 0.6646 - val_accuracy: 0.7667 - val_f1: 0.4519\n",
            "Epoch 5/100\n",
            "92/92 [==============================] - 13s 138ms/step - loss: 0.6242 - accuracy: 0.7593 - f1: 0.4263 - val_loss: 0.7033 - val_accuracy: 0.7653 - val_f1: 0.4029\n",
            "Epoch 6/100\n",
            "92/92 [==============================] - 13s 139ms/step - loss: 0.5993 - accuracy: 0.7685 - f1: 0.4403 - val_loss: 0.6441 - val_accuracy: 0.7613 - val_f1: 0.4197\n",
            "Epoch 7/100\n",
            "92/92 [==============================] - 13s 140ms/step - loss: 0.6129 - accuracy: 0.7678 - f1: 0.4473 - val_loss: 0.6929 - val_accuracy: 0.7517 - val_f1: 0.4413\n",
            "Epoch 8/100\n",
            "92/92 [==============================] - 13s 139ms/step - loss: 0.5813 - accuracy: 0.7839 - f1: 0.4574 - val_loss: 0.6415 - val_accuracy: 0.7749 - val_f1: 0.4630\n",
            "Epoch 9/100\n",
            "92/92 [==============================] - 13s 139ms/step - loss: 0.5657 - accuracy: 0.7883 - f1: 0.4872 - val_loss: 0.6950 - val_accuracy: 0.7244 - val_f1: 0.4428\n",
            "Epoch 10/100\n",
            "92/92 [==============================] - 13s 139ms/step - loss: 0.5568 - accuracy: 0.7928 - f1: 0.5019 - val_loss: 0.6407 - val_accuracy: 0.7708 - val_f1: 0.4540\n",
            "Epoch 11/100\n",
            "92/92 [==============================] - 13s 139ms/step - loss: 0.5486 - accuracy: 0.7955 - f1: 0.4980 - val_loss: 0.6539 - val_accuracy: 0.7763 - val_f1: 0.4653\n",
            "Epoch 12/100\n",
            "92/92 [==============================] - 13s 138ms/step - loss: 0.5283 - accuracy: 0.7986 - f1: 0.5237 - val_loss: 0.6373 - val_accuracy: 0.7817 - val_f1: 0.4320\n",
            "Epoch 13/100\n",
            "92/92 [==============================] - 13s 139ms/step - loss: 0.5207 - accuracy: 0.8044 - f1: 0.5261 - val_loss: 0.6843 - val_accuracy: 0.7503 - val_f1: 0.4779\n",
            "Epoch 14/100\n",
            "92/92 [==============================] - 13s 141ms/step - loss: 0.5214 - accuracy: 0.7982 - f1: 0.5283 - val_loss: 0.6391 - val_accuracy: 0.7694 - val_f1: 0.4534\n",
            "Epoch 15/100\n",
            "92/92 [==============================] - 13s 138ms/step - loss: 0.4900 - accuracy: 0.8184 - f1: 0.5624 - val_loss: 0.6251 - val_accuracy: 0.7831 - val_f1: 0.4839\n",
            "Epoch 16/100\n",
            "92/92 [==============================] - 13s 141ms/step - loss: 0.4923 - accuracy: 0.8204 - f1: 0.5654 - val_loss: 0.6586 - val_accuracy: 0.7694 - val_f1: 0.4554\n",
            "Epoch 17/100\n",
            "92/92 [==============================] - 13s 140ms/step - loss: 0.4839 - accuracy: 0.8136 - f1: 0.5792 - val_loss: 0.6430 - val_accuracy: 0.7735 - val_f1: 0.4879\n",
            "Epoch 18/100\n",
            "92/92 [==============================] - 13s 141ms/step - loss: 0.4731 - accuracy: 0.8225 - f1: 0.5914 - val_loss: 0.6536 - val_accuracy: 0.7490 - val_f1: 0.4710\n",
            "Epoch 19/100\n",
            "92/92 [==============================] - 13s 140ms/step - loss: 0.4626 - accuracy: 0.8283 - f1: 0.5898 - val_loss: 0.6615 - val_accuracy: 0.7572 - val_f1: 0.4812\n",
            "Epoch 20/100\n",
            "92/92 [==============================] - 13s 139ms/step - loss: 0.4628 - accuracy: 0.8245 - f1: 0.5892 - val_loss: 0.6455 - val_accuracy: 0.7694 - val_f1: 0.4482\n",
            "Epoch 21/100\n",
            "92/92 [==============================] - 13s 138ms/step - loss: 0.4567 - accuracy: 0.8313 - f1: 0.6045 - val_loss: 0.6394 - val_accuracy: 0.7776 - val_f1: 0.4983\n",
            "Epoch 22/100\n",
            "92/92 [==============================] - 13s 139ms/step - loss: 0.4362 - accuracy: 0.8344 - f1: 0.6076 - val_loss: 0.6825 - val_accuracy: 0.7708 - val_f1: 0.4966\n",
            "Epoch 23/100\n",
            "92/92 [==============================] - 13s 138ms/step - loss: 0.4346 - accuracy: 0.8392 - f1: 0.6118 - val_loss: 0.6432 - val_accuracy: 0.7544 - val_f1: 0.4970\n",
            "Epoch 24/100\n",
            "92/92 [==============================] - 13s 139ms/step - loss: 0.4274 - accuracy: 0.8419 - f1: 0.6101 - val_loss: 0.6806 - val_accuracy: 0.7640 - val_f1: 0.4773\n",
            "Epoch 25/100\n",
            "92/92 [==============================] - 13s 140ms/step - loss: 0.4149 - accuracy: 0.8389 - f1: 0.6213 - val_loss: 0.6844 - val_accuracy: 0.7776 - val_f1: 0.4813\n",
            "Epoch 26/100\n",
            "92/92 [==============================] - 13s 139ms/step - loss: 0.4065 - accuracy: 0.8481 - f1: 0.6333 - val_loss: 0.8329 - val_accuracy: 0.7653 - val_f1: 0.4005\n",
            "Epoch 27/100\n",
            "92/92 [==============================] - 13s 139ms/step - loss: 0.4090 - accuracy: 0.8447 - f1: 0.6411 - val_loss: 0.6956 - val_accuracy: 0.7749 - val_f1: 0.4996\n",
            "Epoch 28/100\n",
            "92/92 [==============================] - 13s 139ms/step - loss: 0.3952 - accuracy: 0.8488 - f1: 0.6440 - val_loss: 0.6712 - val_accuracy: 0.7872 - val_f1: 0.4769\n",
            "Epoch 29/100\n",
            "92/92 [==============================] - 13s 140ms/step - loss: 0.3927 - accuracy: 0.8532 - f1: 0.6395 - val_loss: 0.6466 - val_accuracy: 0.7804 - val_f1: 0.5018\n",
            "Epoch 30/100\n",
            "92/92 [==============================] - 13s 139ms/step - loss: 0.3791 - accuracy: 0.8559 - f1: 0.6668 - val_loss: 0.6827 - val_accuracy: 0.7790 - val_f1: 0.5099\n",
            "Epoch 31/100\n",
            "92/92 [==============================] - 13s 139ms/step - loss: 0.3755 - accuracy: 0.8587 - f1: 0.6899 - val_loss: 0.7469 - val_accuracy: 0.7708 - val_f1: 0.4768\n",
            "Epoch 32/100\n",
            "92/92 [==============================] - 13s 139ms/step - loss: 0.3847 - accuracy: 0.8546 - f1: 0.6431 - val_loss: 0.7005 - val_accuracy: 0.7531 - val_f1: 0.4940\n",
            "Epoch 33/100\n",
            "92/92 [==============================] - 13s 141ms/step - loss: 0.3626 - accuracy: 0.8631 - f1: 0.6576 - val_loss: 0.7096 - val_accuracy: 0.7462 - val_f1: 0.4982\n",
            "Epoch 34/100\n",
            "92/92 [==============================] - 13s 140ms/step - loss: 0.3519 - accuracy: 0.8675 - f1: 0.6576 - val_loss: 0.7092 - val_accuracy: 0.7790 - val_f1: 0.4799\n",
            "Epoch 35/100\n",
            "92/92 [==============================] - 13s 138ms/step - loss: 0.3588 - accuracy: 0.8662 - f1: 0.6676 - val_loss: 0.6519 - val_accuracy: 0.7763 - val_f1: 0.5239\n",
            "Epoch 36/100\n",
            "92/92 [==============================] - 13s 137ms/step - loss: 0.3592 - accuracy: 0.8610 - f1: 0.6661 - val_loss: 0.7153 - val_accuracy: 0.7817 - val_f1: 0.4835\n",
            "Epoch 37/100\n",
            "92/92 [==============================] - 13s 139ms/step - loss: 0.3697 - accuracy: 0.8569 - f1: 0.6720 - val_loss: 0.7652 - val_accuracy: 0.7776 - val_f1: 0.4726\n",
            "Epoch 38/100\n",
            "92/92 [==============================] - 13s 139ms/step - loss: 0.3296 - accuracy: 0.8747 - f1: 0.7085 - val_loss: 0.7403 - val_accuracy: 0.7613 - val_f1: 0.5048\n",
            "Epoch 39/100\n",
            "92/92 [==============================] - 13s 139ms/step - loss: 0.3421 - accuracy: 0.8689 - f1: 0.6862 - val_loss: 0.7258 - val_accuracy: 0.7804 - val_f1: 0.4961\n",
            "Epoch 40/100\n",
            "92/92 [==============================] - 13s 138ms/step - loss: 0.3356 - accuracy: 0.8703 - f1: 0.7011 - val_loss: 0.7105 - val_accuracy: 0.7667 - val_f1: 0.4943\n",
            "Epoch 41/100\n",
            "92/92 [==============================] - 13s 140ms/step - loss: 0.3409 - accuracy: 0.8720 - f1: 0.6766 - val_loss: 0.8072 - val_accuracy: 0.7763 - val_f1: 0.4821\n",
            "Epoch 42/100\n",
            "92/92 [==============================] - 13s 140ms/step - loss: 0.3259 - accuracy: 0.8788 - f1: 0.6966 - val_loss: 0.7493 - val_accuracy: 0.7599 - val_f1: 0.4877\n",
            "Epoch 43/100\n",
            "92/92 [==============================] - 13s 139ms/step - loss: 0.3328 - accuracy: 0.8798 - f1: 0.7279 - val_loss: 0.7244 - val_accuracy: 0.7667 - val_f1: 0.4774\n",
            "Epoch 44/100\n",
            "92/92 [==============================] - 13s 139ms/step - loss: 0.3140 - accuracy: 0.8836 - f1: 0.7317 - val_loss: 0.7302 - val_accuracy: 0.7749 - val_f1: 0.4911\n",
            "Epoch 45/100\n",
            "92/92 [==============================] - 13s 140ms/step - loss: 0.3046 - accuracy: 0.8846 - f1: 0.7219 - val_loss: 0.7592 - val_accuracy: 0.7531 - val_f1: 0.4739\n",
            "Epoch 46/100\n",
            "92/92 [==============================] - 13s 142ms/step - loss: 0.2919 - accuracy: 0.8952 - f1: 0.7427 - val_loss: 0.7486 - val_accuracy: 0.7681 - val_f1: 0.4878\n",
            "Epoch 47/100\n",
            "92/92 [==============================] - 13s 139ms/step - loss: 0.2966 - accuracy: 0.8931 - f1: 0.7411 - val_loss: 0.7445 - val_accuracy: 0.7735 - val_f1: 0.4685\n",
            "Epoch 48/100\n",
            "92/92 [==============================] - 13s 138ms/step - loss: 0.2988 - accuracy: 0.8870 - f1: 0.7488 - val_loss: 0.8126 - val_accuracy: 0.7640 - val_f1: 0.4792\n",
            "Epoch 49/100\n",
            "92/92 [==============================] - 13s 139ms/step - loss: 0.2842 - accuracy: 0.8918 - f1: 0.7462 - val_loss: 0.7884 - val_accuracy: 0.7776 - val_f1: 0.4888\n",
            "Epoch 50/100\n",
            "92/92 [==============================] - 13s 138ms/step - loss: 0.2820 - accuracy: 0.8966 - f1: 0.7528 - val_loss: 0.7575 - val_accuracy: 0.7572 - val_f1: 0.4915\n",
            "Epoch 51/100\n",
            "92/92 [==============================] - 13s 139ms/step - loss: 0.2934 - accuracy: 0.8921 - f1: 0.7266 - val_loss: 0.7861 - val_accuracy: 0.7544 - val_f1: 0.4944\n",
            "Epoch 52/100\n",
            "92/92 [==============================] - 13s 137ms/step - loss: 0.2760 - accuracy: 0.9013 - f1: 0.7466 - val_loss: 0.7885 - val_accuracy: 0.7544 - val_f1: 0.4983\n",
            "Epoch 53/100\n",
            "92/92 [==============================] - 13s 138ms/step - loss: 0.3080 - accuracy: 0.8884 - f1: 0.7445 - val_loss: 0.8037 - val_accuracy: 0.7722 - val_f1: 0.5077\n",
            "Epoch 54/100\n",
            "92/92 [==============================] - 13s 137ms/step - loss: 0.2700 - accuracy: 0.9020 - f1: 0.7545 - val_loss: 0.7760 - val_accuracy: 0.7708 - val_f1: 0.4845\n",
            "Epoch 55/100\n",
            "92/92 [==============================] - 13s 139ms/step - loss: 0.2575 - accuracy: 0.9044 - f1: 0.7567 - val_loss: 0.8018 - val_accuracy: 0.7503 - val_f1: 0.4969\n",
            "Epoch 56/100\n",
            "92/92 [==============================] - 13s 138ms/step - loss: 0.2647 - accuracy: 0.8989 - f1: 0.7640 - val_loss: 0.8552 - val_accuracy: 0.7449 - val_f1: 0.4754\n",
            "Epoch 57/100\n",
            "92/92 [==============================] - 13s 139ms/step - loss: 0.2633 - accuracy: 0.9010 - f1: 0.7502 - val_loss: 0.8253 - val_accuracy: 0.7558 - val_f1: 0.5200\n",
            "Epoch 58/100\n",
            "92/92 [==============================] - 13s 138ms/step - loss: 0.2473 - accuracy: 0.9078 - f1: 0.7656 - val_loss: 0.7956 - val_accuracy: 0.7817 - val_f1: 0.5099\n",
            "Epoch 59/100\n",
            "92/92 [==============================] - 13s 138ms/step - loss: 0.2734 - accuracy: 0.8894 - f1: 0.7621 - val_loss: 0.8276 - val_accuracy: 0.7367 - val_f1: 0.4919\n",
            "Epoch 60/100\n",
            "92/92 [==============================] - 13s 138ms/step - loss: 0.2568 - accuracy: 0.9075 - f1: 0.7572 - val_loss: 0.8839 - val_accuracy: 0.7694 - val_f1: 0.4740\n",
            "Epoch 61/100\n",
            "92/92 [==============================] - 13s 138ms/step - loss: 0.2604 - accuracy: 0.9085 - f1: 0.7577 - val_loss: 0.8195 - val_accuracy: 0.7694 - val_f1: 0.5392\n",
            "Epoch 62/100\n",
            "92/92 [==============================] - 13s 140ms/step - loss: 0.2646 - accuracy: 0.9024 - f1: 0.7603 - val_loss: 0.8851 - val_accuracy: 0.7490 - val_f1: 0.4977\n",
            "Epoch 63/100\n",
            "92/92 [==============================] - 13s 137ms/step - loss: 0.2590 - accuracy: 0.9058 - f1: 0.7671 - val_loss: 0.8650 - val_accuracy: 0.7722 - val_f1: 0.5060\n",
            "Epoch 64/100\n",
            "92/92 [==============================] - 13s 137ms/step - loss: 0.2398 - accuracy: 0.9136 - f1: 0.7908 - val_loss: 0.7957 - val_accuracy: 0.7735 - val_f1: 0.4788\n",
            "Epoch 65/100\n",
            "92/92 [==============================] - 13s 138ms/step - loss: 0.2464 - accuracy: 0.9112 - f1: 0.7731 - val_loss: 0.8500 - val_accuracy: 0.7585 - val_f1: 0.5087\n",
            "Epoch 66/100\n",
            "92/92 [==============================] - 13s 137ms/step - loss: 0.2430 - accuracy: 0.9123 - f1: 0.7743 - val_loss: 0.8418 - val_accuracy: 0.7599 - val_f1: 0.4960\n",
            "Epoch 67/100\n",
            "92/92 [==============================] - 13s 138ms/step - loss: 0.2340 - accuracy: 0.9126 - f1: 0.7858 - val_loss: 0.8373 - val_accuracy: 0.7667 - val_f1: 0.5045\n",
            "Epoch 68/100\n",
            "92/92 [==============================] - 13s 138ms/step - loss: 0.2330 - accuracy: 0.9140 - f1: 0.7683 - val_loss: 0.8665 - val_accuracy: 0.7544 - val_f1: 0.5122\n",
            "Epoch 69/100\n",
            "92/92 [==============================] - 13s 139ms/step - loss: 0.2061 - accuracy: 0.9211 - f1: 0.7972 - val_loss: 0.8796 - val_accuracy: 0.7667 - val_f1: 0.4953\n",
            "Epoch 70/100\n",
            "92/92 [==============================] - 13s 138ms/step - loss: 0.2202 - accuracy: 0.9136 - f1: 0.7945 - val_loss: 0.8766 - val_accuracy: 0.7449 - val_f1: 0.4647\n",
            "Epoch 71/100\n",
            "92/92 [==============================] - 13s 139ms/step - loss: 0.2379 - accuracy: 0.9160 - f1: 0.7650 - val_loss: 0.8976 - val_accuracy: 0.7517 - val_f1: 0.5160\n",
            "Epoch 72/100\n",
            "92/92 [==============================] - 13s 138ms/step - loss: 0.2389 - accuracy: 0.9140 - f1: 0.7959 - val_loss: 0.9274 - val_accuracy: 0.7640 - val_f1: 0.4812\n",
            "Epoch 73/100\n",
            "92/92 [==============================] - 13s 139ms/step - loss: 0.2147 - accuracy: 0.9177 - f1: 0.7960 - val_loss: 0.8436 - val_accuracy: 0.7599 - val_f1: 0.5083\n",
            "Epoch 74/100\n",
            "92/92 [==============================] - 13s 138ms/step - loss: 0.2296 - accuracy: 0.9051 - f1: 0.7737 - val_loss: 0.8790 - val_accuracy: 0.7776 - val_f1: 0.4997\n",
            "Epoch 75/100\n",
            "92/92 [==============================] - 13s 138ms/step - loss: 0.2193 - accuracy: 0.9167 - f1: 0.7953 - val_loss: 0.8388 - val_accuracy: 0.7763 - val_f1: 0.5096\n",
            "Epoch 76/100\n",
            "92/92 [==============================] - 13s 138ms/step - loss: 0.2022 - accuracy: 0.9256 - f1: 0.8131 - val_loss: 0.9322 - val_accuracy: 0.7599 - val_f1: 0.4805\n",
            "Epoch 77/100\n",
            "92/92 [==============================] - 13s 138ms/step - loss: 0.2233 - accuracy: 0.9218 - f1: 0.7995 - val_loss: 0.8731 - val_accuracy: 0.7599 - val_f1: 0.5238\n",
            "Epoch 78/100\n",
            "92/92 [==============================] - 13s 138ms/step - loss: 0.2161 - accuracy: 0.9290 - f1: 0.8067 - val_loss: 0.8682 - val_accuracy: 0.7749 - val_f1: 0.4860\n",
            "Epoch 79/100\n",
            "92/92 [==============================] - 13s 138ms/step - loss: 0.2179 - accuracy: 0.9184 - f1: 0.7742 - val_loss: 0.8653 - val_accuracy: 0.7613 - val_f1: 0.5046\n",
            "Epoch 80/100\n",
            "92/92 [==============================] - 13s 138ms/step - loss: 0.2180 - accuracy: 0.9194 - f1: 0.7996 - val_loss: 0.8769 - val_accuracy: 0.7681 - val_f1: 0.5077\n",
            "Epoch 81/100\n",
            "92/92 [==============================] - 13s 138ms/step - loss: 0.2183 - accuracy: 0.9201 - f1: 0.8017 - val_loss: 0.9360 - val_accuracy: 0.7776 - val_f1: 0.5033\n",
            "Epoch 82/100\n",
            "92/92 [==============================] - 13s 138ms/step - loss: 0.2112 - accuracy: 0.9235 - f1: 0.7928 - val_loss: 0.8811 - val_accuracy: 0.7599 - val_f1: 0.4882\n",
            "Epoch 83/100\n",
            "92/92 [==============================] - 13s 138ms/step - loss: 0.2062 - accuracy: 0.9273 - f1: 0.8187 - val_loss: 0.8764 - val_accuracy: 0.7572 - val_f1: 0.5175\n",
            "Epoch 84/100\n",
            "92/92 [==============================] - 13s 139ms/step - loss: 0.2088 - accuracy: 0.9218 - f1: 0.7959 - val_loss: 0.8983 - val_accuracy: 0.7790 - val_f1: 0.5267\n",
            "Epoch 85/100\n",
            "92/92 [==============================] - 13s 138ms/step - loss: 0.2207 - accuracy: 0.9215 - f1: 0.7863 - val_loss: 0.9107 - val_accuracy: 0.7626 - val_f1: 0.5113\n",
            "Epoch 86/100\n",
            "92/92 [==============================] - 13s 136ms/step - loss: 0.1939 - accuracy: 0.9297 - f1: 0.8151 - val_loss: 0.9674 - val_accuracy: 0.7503 - val_f1: 0.4792\n",
            "Epoch 87/100\n",
            "92/92 [==============================] - 13s 138ms/step - loss: 0.1989 - accuracy: 0.9269 - f1: 0.8070 - val_loss: 0.9608 - val_accuracy: 0.7449 - val_f1: 0.4933\n",
            "Epoch 88/100\n",
            "92/92 [==============================] - 13s 141ms/step - loss: 0.1839 - accuracy: 0.9324 - f1: 0.8199 - val_loss: 0.9006 - val_accuracy: 0.7599 - val_f1: 0.5059\n",
            "Epoch 89/100\n",
            "92/92 [==============================] - 13s 140ms/step - loss: 0.1898 - accuracy: 0.9276 - f1: 0.8114 - val_loss: 0.9260 - val_accuracy: 0.7640 - val_f1: 0.4975\n",
            "Epoch 90/100\n",
            "92/92 [==============================] - 13s 138ms/step - loss: 0.1741 - accuracy: 0.9365 - f1: 0.8276 - val_loss: 0.9321 - val_accuracy: 0.7435 - val_f1: 0.4899\n",
            "Epoch 91/100\n",
            "92/92 [==============================] - 13s 138ms/step - loss: 0.1835 - accuracy: 0.9351 - f1: 0.8269 - val_loss: 0.9494 - val_accuracy: 0.7558 - val_f1: 0.4828\n",
            "Epoch 92/100\n",
            "92/92 [==============================] - 13s 138ms/step - loss: 0.2096 - accuracy: 0.9225 - f1: 0.8020 - val_loss: 0.9697 - val_accuracy: 0.7585 - val_f1: 0.4786\n",
            "Epoch 93/100\n",
            "92/92 [==============================] - 13s 138ms/step - loss: 0.1953 - accuracy: 0.9245 - f1: 0.7997 - val_loss: 0.9379 - val_accuracy: 0.7449 - val_f1: 0.5149\n",
            "Epoch 94/100\n",
            "92/92 [==============================] - 13s 139ms/step - loss: 0.1813 - accuracy: 0.9382 - f1: 0.8251 - val_loss: 0.9589 - val_accuracy: 0.7394 - val_f1: 0.5089\n",
            "Epoch 95/100\n",
            "92/92 [==============================] - 13s 138ms/step - loss: 0.1985 - accuracy: 0.9321 - f1: 0.8070 - val_loss: 0.9312 - val_accuracy: 0.7572 - val_f1: 0.4919\n",
            "Epoch 96/100\n",
            "92/92 [==============================] - 13s 138ms/step - loss: 0.2087 - accuracy: 0.9211 - f1: 0.8015 - val_loss: 0.9301 - val_accuracy: 0.7503 - val_f1: 0.4766\n",
            "Epoch 97/100\n",
            "92/92 [==============================] - 13s 139ms/step - loss: 0.1961 - accuracy: 0.9280 - f1: 0.8001 - val_loss: 1.0096 - val_accuracy: 0.7599 - val_f1: 0.4956\n",
            "Epoch 98/100\n",
            "92/92 [==============================] - 13s 139ms/step - loss: 0.1686 - accuracy: 0.9379 - f1: 0.8179 - val_loss: 0.9861 - val_accuracy: 0.7476 - val_f1: 0.4912\n",
            "Epoch 99/100\n",
            "92/92 [==============================] - 13s 137ms/step - loss: 0.1912 - accuracy: 0.9259 - f1: 0.8122 - val_loss: 0.9563 - val_accuracy: 0.7613 - val_f1: 0.4728\n",
            "Epoch 100/100\n",
            "92/92 [==============================] - 13s 139ms/step - loss: 0.1825 - accuracy: 0.9324 - f1: 0.8283 - val_loss: 0.9639 - val_accuracy: 0.7585 - val_f1: 0.4631\n"
          ]
        }
      ],
      "source": [
        "def efficientnet(num_classes):\n",
        "    base_model = EfficientNetB3(include_top=False, weights='imagenet', input_shape=(224, 224, 3))\n",
        "\n",
        "    x = base_model.output\n",
        "    x = GlobalAveragePooling2D()(x)\n",
        "    x = Dense(512, activation='relu')(x)\n",
        "    output = Dense(num_classes, activation='softmax')(x)\n",
        "\n",
        "    model = keras.models.Model(inputs=base_model.input, outputs=output)\n",
        "\n",
        "    for layer in base_model.layers:\n",
        "        layer.trainable = False\n",
        "\n",
        "    return model\n",
        "\n",
        "\n",
        "# Split data into train and validation sets\n",
        "train_dataset = tf.data.Dataset.from_tensor_slices((x_train, y_train))\n",
        "train_dataset = train_dataset.shuffle(buffer_size=1024).batch(32)\n",
        "\n",
        "test_dataset = tf.data.Dataset.from_tensor_slices((x_test, y_test))\n",
        "test_dataset = test_dataset.batch(32)\n",
        "\n",
        "# f1 score\n",
        "# import tensorflow.compat.v1 as tf\n",
        "# tf.disable_v2_behavior() \n",
        "import keras.backend as K\n",
        "\n",
        "def f1(y_true, y_pred):\n",
        "    y_pred = K.round(y_pred)\n",
        "    tp = K.sum(K.cast(y_true*y_pred, 'float'), axis=0)\n",
        "    tn = K.sum(K.cast((1-y_true)*(1-y_pred), 'float'), axis=0)\n",
        "    fp = K.sum(K.cast((1-y_true)*y_pred, 'float'), axis=0)\n",
        "    fn = K.sum(K.cast(y_true*(1-y_pred), 'float'), axis=0)\n",
        "\n",
        "    p = tp / (tp + fp + K.epsilon())\n",
        "    r = tp / (tp + fn + K.epsilon())\n",
        "\n",
        "    f1 = 2*p*r / (p+r+K.epsilon())\n",
        "    f1 = tf.where(tf.math.is_nan(f1), tf.zeros_like(f1), f1)\n",
        "    return K.mean(f1)\n",
        "\n",
        "# ---------------------------------------------------------------------\n",
        "# Create model\n",
        "model = efficientnet(num_classes=5)\n",
        "model.compile(loss='categorical_crossentropy', optimizer=AdamW(lr=0.0001), metrics=['accuracy',f1])\n",
        "\n",
        "# Train model\n",
        "history = model.fit(train_dataset, epochs=100, validation_data=test_dataset)\n",
        "\n",
        "# Evaluate model on test set\n",
        "# test_loss, test_acc = model.evaluate(test_dataset)\n",
        "# print('Test loss:', test_loss)\n",
        "# print('Test accuracy:', test_acc)\n"
      ]
    },
    {
      "cell_type": "code",
      "source": [
        "# convert the history.history dict to a pandas DataFrame:  \n",
        "import pandas as pd   \n",
        "hist_df = pd.DataFrame(history.history) \n",
        "\n",
        "#  saving history to csv file\n",
        "hist_csv_file = '/content/drive/MyDrive/efficientnet/efficientnet_history.csv'\n",
        "with open(hist_csv_file, mode='w') as f:\n",
        "    hist_df.to_csv(f)\n",
        "\n",
        "# saving the model\n",
        "model.save('/content/drive/MyDrive/efficientnet/effiecientnet.h5')\n"
      ],
      "metadata": {
        "id": "QqvtG9RIOQD1"
      },
      "execution_count": 18,
      "outputs": []
    },
    {
      "cell_type": "code",
      "source": [],
      "metadata": {
        "id": "ZaWz-CusoGA8"
      },
      "execution_count": null,
      "outputs": []
    }
  ]
}